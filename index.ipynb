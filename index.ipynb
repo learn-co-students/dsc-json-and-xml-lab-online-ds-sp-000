{
 "cells": [
  {
   "cell_type": "markdown",
   "metadata": {},
   "source": [
    "# JSON and XML - Lab"
   ]
  },
  {
   "cell_type": "markdown",
   "metadata": {},
   "source": [
    "## Introduction\n",
    "\n",
    "In this lab, you'll practice navigating JSON and XML data structures."
   ]
  },
  {
   "cell_type": "markdown",
   "metadata": {},
   "source": [
    "## Objectives\n",
    "You will be able to:\n",
    "* Effectively use the JSON module to load and parse JSON documents\n",
    "* Read and access data stored in JSON and XML\n",
    "* Compare  and contrast the JSON and XML as data interchange types\n"
   ]
  },
  {
   "cell_type": "markdown",
   "metadata": {},
   "source": [
    "## XML"
   ]
  },
  {
   "cell_type": "code",
   "execution_count": 2,
   "metadata": {},
   "outputs": [],
   "source": [
    "import xml.etree.ElementTree as ET"
   ]
  },
  {
   "cell_type": "markdown",
   "metadata": {},
   "source": [
    "### Create an XML tree and retrieve the root tag."
   ]
  },
  {
   "cell_type": "code",
   "execution_count": 4,
   "metadata": {},
   "outputs": [
    {
     "name": "stdout",
     "output_type": "stream",
     "text": [
      "row {}\n"
     ]
    }
   ],
   "source": [
    "#Your code here\n",
    "tree = ET.parse('nyc_2001_campaign_finance.xml')\n",
    "root = tree.getroot()\n",
    "for child in root:\n",
    "    print(child.tag, child.attrib)"
   ]
  },
  {
   "cell_type": "markdown",
   "metadata": {},
   "source": [
    "### How many direct descendents does the root tag have?"
   ]
  },
  {
   "cell_type": "code",
   "execution_count": 5,
   "metadata": {},
   "outputs": [
    {
     "data": {
      "text/plain": [
       "1"
      ]
     },
     "execution_count": 5,
     "metadata": {},
     "output_type": "execute_result"
    }
   ],
   "source": [
    "#Answer: 1\n",
    "1"
   ]
  },
  {
   "cell_type": "markdown",
   "metadata": {},
   "source": [
    "### How many different types of tags are there within the entire XML file?"
   ]
  },
  {
   "cell_type": "code",
   "execution_count": 36,
   "metadata": {},
   "outputs": [
    {
     "name": "stdout",
     "output_type": "stream",
     "text": [
      "13 tags in file\n"
     ]
    }
   ],
   "source": [
    "count = 0\n",
    "tags = {}\n",
    "for element in root.iter():\n",
    "    count += 1\n",
    "    if element.tag not in tags:\n",
    "        tags[element.tag] = 1\n",
    "    else:\n",
    "        tags[element.tag] += 1\n",
    "\n",
    "print(str(len(tags.keys())) + ' tags in file')\n",
    "\n"
   ]
  },
  {
   "cell_type": "markdown",
   "metadata": {},
   "source": [
    "### Create a DataFrame listing the number of each type of tag. \n",
    "Sort the DataFrame in descending order by the tag count. The first entry should demonstrate there are 286 row tags in the XML file.   \n",
    "(Your DataFrame will be a single column, so could also be thought of as a Series.)"
   ]
  },
  {
   "cell_type": "code",
   "execution_count": 38,
   "metadata": {},
   "outputs": [],
   "source": [
    "import pandas as pd"
   ]
  },
  {
   "cell_type": "code",
   "execution_count": 47,
   "metadata": {},
   "outputs": [],
   "source": [
    "df = pd.DataFrame.from_dict(tags,orient='index')\n",
    "df.sort_values(0,ascending = False, inplace = True)"
   ]
  },
  {
   "cell_type": "code",
   "execution_count": 48,
   "metadata": {},
   "outputs": [
    {
     "data": {
      "text/html": [
       "<div>\n",
       "<style scoped>\n",
       "    .dataframe tbody tr th:only-of-type {\n",
       "        vertical-align: middle;\n",
       "    }\n",
       "\n",
       "    .dataframe tbody tr th {\n",
       "        vertical-align: top;\n",
       "    }\n",
       "\n",
       "    .dataframe thead th {\n",
       "        text-align: right;\n",
       "    }\n",
       "</style>\n",
       "<table border=\"1\" class=\"dataframe\">\n",
       "  <thead>\n",
       "    <tr style=\"text-align: right;\">\n",
       "      <th></th>\n",
       "      <th>0</th>\n",
       "    </tr>\n",
       "  </thead>\n",
       "  <tbody>\n",
       "    <tr>\n",
       "      <th>row</th>\n",
       "      <td>286</td>\n",
       "    </tr>\n",
       "    <tr>\n",
       "      <th>candid</th>\n",
       "      <td>285</td>\n",
       "    </tr>\n",
       "    <tr>\n",
       "      <th>candname</th>\n",
       "      <td>285</td>\n",
       "    </tr>\n",
       "    <tr>\n",
       "      <th>canclass</th>\n",
       "      <td>285</td>\n",
       "    </tr>\n",
       "    <tr>\n",
       "      <th>election</th>\n",
       "      <td>284</td>\n",
       "    </tr>\n",
       "    <tr>\n",
       "      <th>officecd</th>\n",
       "      <td>284</td>\n",
       "    </tr>\n",
       "    <tr>\n",
       "      <th>primarypay</th>\n",
       "      <td>284</td>\n",
       "    </tr>\n",
       "    <tr>\n",
       "      <th>generalpay</th>\n",
       "      <td>284</td>\n",
       "    </tr>\n",
       "    <tr>\n",
       "      <th>runoffpay</th>\n",
       "      <td>284</td>\n",
       "    </tr>\n",
       "    <tr>\n",
       "      <th>totalpay</th>\n",
       "      <td>284</td>\n",
       "    </tr>\n",
       "    <tr>\n",
       "      <th>officedist</th>\n",
       "      <td>245</td>\n",
       "    </tr>\n",
       "    <tr>\n",
       "      <th>officeboro</th>\n",
       "      <td>21</td>\n",
       "    </tr>\n",
       "    <tr>\n",
       "      <th>response</th>\n",
       "      <td>1</td>\n",
       "    </tr>\n",
       "  </tbody>\n",
       "</table>\n",
       "</div>"
      ],
      "text/plain": [
       "              0\n",
       "row         286\n",
       "candid      285\n",
       "candname    285\n",
       "canclass    285\n",
       "election    284\n",
       "officecd    284\n",
       "primarypay  284\n",
       "generalpay  284\n",
       "runoffpay   284\n",
       "totalpay    284\n",
       "officedist  245\n",
       "officeboro   21\n",
       "response      1"
      ]
     },
     "metadata": {},
     "output_type": "display_data"
    }
   ],
   "source": [
    "display(df)"
   ]
  },
  {
   "cell_type": "markdown",
   "metadata": {},
   "source": [
    "## JSON"
   ]
  },
  {
   "cell_type": "markdown",
   "metadata": {},
   "source": [
    "### Open the same dataset from json"
   ]
  },
  {
   "cell_type": "code",
   "execution_count": 50,
   "metadata": {},
   "outputs": [
    {
     "name": "stdout",
     "output_type": "stream",
     "text": [
      "<class 'dict'>\n"
     ]
    }
   ],
   "source": [
    "#Your code here\n",
    "import json\n",
    "f = open('nyc_2001_campaign_finance.json')\n",
    "data = json.load(f)\n",
    "print(type(data))"
   ]
  },
  {
   "cell_type": "markdown",
   "metadata": {},
   "source": [
    "### What is the root data type of the json file?"
   ]
  },
  {
   "cell_type": "code",
   "execution_count": 51,
   "metadata": {},
   "outputs": [
    {
     "name": "stdout",
     "output_type": "stream",
     "text": [
      "<class 'dict'>\n"
     ]
    }
   ],
   "source": [
    "### Your code here\n",
    "print(type(data))"
   ]
  },
  {
   "cell_type": "markdown",
   "metadata": {},
   "source": [
    "### Navigate to the 'data' key of your loaded json object. What data type is this?"
   ]
  },
  {
   "cell_type": "code",
   "execution_count": 60,
   "metadata": {},
   "outputs": [
    {
     "name": "stdout",
     "output_type": "stream",
     "text": [
      "<class 'list'>\n"
     ]
    }
   ],
   "source": [
    "print(type(data['data']))"
   ]
  },
  {
   "cell_type": "markdown",
   "metadata": {},
   "source": [
    "### Preview the first entry from the value returned by the 'data' key above."
   ]
  },
  {
   "cell_type": "code",
   "execution_count": 62,
   "metadata": {},
   "outputs": [
    {
     "name": "stdout",
     "output_type": "stream",
     "text": [
      "[1, 'E3E9CC9F-7443-43F6-94AF-B5A0F802DBA1', 1, 1315925633, '392904', 1315925633, '392904', '{\\n  \"invalidCells\" : {\\n    \"1519001\" : \"TOTALPAY\",\\n    \"1518998\" : \"PRIMARYPAY\",\\n    \"1519000\" : \"RUNOFFPAY\",\\n    \"1518999\" : \"GENERALPAY\",\\n    \"1518994\" : \"OFFICECD\",\\n    \"1518996\" : \"OFFICEDIST\",\\n    \"1518991\" : \"ELECTION\"\\n  }\\n}', None, 'CANDID', 'CANDNAME', None, 'OFFICEBORO', None, 'CANCLASS', None, None, None, None]\n"
     ]
    }
   ],
   "source": [
    "#Your code here\n",
    "print(data['data'][0])"
   ]
  },
  {
   "cell_type": "markdown",
   "metadata": {},
   "source": [
    "### Preview the Entry under meta -> view -> columns (the keys of three successively nested dictionaries)"
   ]
  },
  {
   "cell_type": "code",
   "execution_count": 64,
   "metadata": {},
   "outputs": [
    {
     "name": "stdout",
     "output_type": "stream",
     "text": [
      "[{'dataTypeName': 'meta_data',\n",
      "  'fieldName': ':sid',\n",
      "  'flags': ['hidden'],\n",
      "  'format': {},\n",
      "  'id': -1,\n",
      "  'name': 'sid',\n",
      "  'position': 0,\n",
      "  'renderTypeName': 'meta_data'},\n",
      " {'dataTypeName': 'meta_data',\n",
      "  'fieldName': ':id',\n",
      "  'flags': ['hidden'],\n",
      "  'format': {},\n",
      "  'id': -1,\n",
      "  'name': 'id',\n",
      "  'position': 0,\n",
      "  'renderTypeName': 'meta_data'},\n",
      " {'dataTypeName': 'meta_data',\n",
      "  'fieldName': ':position',\n",
      "  'flags': ['hidden'],\n",
      "  'format': {},\n",
      "  'id': -1,\n",
      "  'name': 'position',\n",
      "  'position': 0,\n",
      "  'renderTypeName': 'meta_data'},\n",
      " {'dataTypeName': 'meta_data',\n",
      "  'fieldName': ':created_at',\n",
      "  'flags': ['hidden'],\n",
      "  'format': {},\n",
      "  'id': -1,\n",
      "  'name': 'created_at',\n",
      "  'position': 0,\n",
      "  'renderTypeName': 'meta_data'},\n",
      " {'dataTypeName': 'meta_data',\n",
      "  'fieldName': ':created_meta',\n",
      "  'flags': ['hidden'],\n",
      "  'format': {},\n",
      "  'id': -1,\n",
      "  'name': 'created_meta',\n",
      "  'position': 0,\n",
      "  'renderTypeName': 'meta_data'},\n",
      " {'dataTypeName': 'meta_data',\n",
      "  'fieldName': ':updated_at',\n",
      "  'flags': ['hidden'],\n",
      "  'format': {},\n",
      "  'id': -1,\n",
      "  'name': 'updated_at',\n",
      "  'position': 0,\n",
      "  'renderTypeName': 'meta_data'},\n",
      " {'dataTypeName': 'meta_data',\n",
      "  'fieldName': ':updated_meta',\n",
      "  'flags': ['hidden'],\n",
      "  'format': {},\n",
      "  'id': -1,\n",
      "  'name': 'updated_meta',\n",
      "  'position': 0,\n",
      "  'renderTypeName': 'meta_data'},\n",
      " {'dataTypeName': 'meta_data',\n",
      "  'fieldName': ':meta',\n",
      "  'flags': ['hidden'],\n",
      "  'format': {},\n",
      "  'id': -1,\n",
      "  'name': 'meta',\n",
      "  'position': 0,\n",
      "  'renderTypeName': 'meta_data'},\n",
      " {'cachedContents': {'average': '2001',\n",
      "                     'largest': '2001',\n",
      "                     'non_null': 284,\n",
      "                     'null': 1,\n",
      "                     'smallest': '2001',\n",
      "                     'sum': '568284',\n",
      "                     'top': [{'count': 20, 'item': '2001'}]},\n",
      "  'dataTypeName': 'number',\n",
      "  'fieldName': 'election',\n",
      "  'format': {'align': 'right',\n",
      "             'noCommas': 'true',\n",
      "             'precisionStyle': 'standard'},\n",
      "  'id': 75768833,\n",
      "  'name': 'ELECTION',\n",
      "  'position': 2,\n",
      "  'renderTypeName': 'number',\n",
      "  'tableColumnId': 1518991,\n",
      "  'width': 196},\n",
      " {'cachedContents': {'largest': 'YA',\n",
      "                     'non_null': 285,\n",
      "                     'null': 0,\n",
      "                     'smallest': '148',\n",
      "                     'top': [{'count': 20, 'item': '490'},\n",
      "                             {'count': 19, 'item': '577'},\n",
      "                             {'count': 18, 'item': 'GF'},\n",
      "                             {'count': 17, 'item': '265'},\n",
      "                             {'count': 16, 'item': '549'},\n",
      "                             {'count': 15, 'item': '260'},\n",
      "                             {'count': 14, 'item': 'DH'},\n",
      "                             {'count': 13, 'item': '168'},\n",
      "                             {'count': 12, 'item': '561'},\n",
      "                             {'count': 11, 'item': '317'},\n",
      "                             {'count': 10, 'item': '240'},\n",
      "                             {'count': 9, 'item': 'B1'},\n",
      "                             {'count': 8, 'item': '337'},\n",
      "                             {'count': 7, 'item': '202'},\n",
      "                             {'count': 6, 'item': 'DP'},\n",
      "                             {'count': 5, 'item': '554'},\n",
      "                             {'count': 4, 'item': '529'},\n",
      "                             {'count': 3, 'item': '521'},\n",
      "                             {'count': 2, 'item': 'CY'},\n",
      "                             {'count': 1, 'item': '327'}]},\n",
      "  'dataTypeName': 'text',\n",
      "  'fieldName': 'candid',\n",
      "  'format': {},\n",
      "  'id': 75768834,\n",
      "  'name': 'CANDID',\n",
      "  'position': 3,\n",
      "  'renderTypeName': 'text',\n",
      "  'tableColumnId': 1518992,\n",
      "  'width': 172},\n",
      " {'cachedContents': {'largest': 'Zett, Lori M',\n",
      "                     'non_null': 285,\n",
      "                     'null': 0,\n",
      "                     'smallest': 'Aboulafia, Sandy',\n",
      "                     'top': [{'count': 20, 'item': 'Taitt, Samuel A'},\n",
      "                             {'count': 19, 'item': 'Taliaferro, Phyllis'},\n",
      "                             {'count': 18, 'item': 'Taveras, Germania'},\n",
      "                             {'count': 17, 'item': 'Thakral, Jairam D'},\n",
      "                             {'count': 16, 'item': 'Thomas, Carl W'},\n",
      "                             {'count': 15, 'item': 'Thompson, Jr., William C'},\n",
      "                             {'count': 14, 'item': 'Tiraco, Joseph E'},\n",
      "                             {'count': 13, 'item': 'Toney, Vaughan'},\n",
      "                             {'count': 12, 'item': 'Toppin, Roger N'},\n",
      "                             {'count': 11, 'item': 'Torres, Mario A'},\n",
      "                             {'count': 10, 'item': 'Vallone, Jr., Peter F'},\n",
      "                             {'count': 9, 'item': 'Vallone, Peter F'},\n",
      "                             {'count': 8, 'item': 'Van Bramer, James G'},\n",
      "                             {'count': 7, 'item': 'Vann, Albert'},\n",
      "                             {'count': 6, 'item': 'Vargas, Ruben Dario'},\n",
      "                             {'count': 5, 'item': 'Vassos, Sandra'},\n",
      "                             {'count': 4, 'item': 'Vernet, Jean D'},\n",
      "                             {'count': 3, 'item': 'Viest, Nicholas D'},\n",
      "                             {'count': 2, 'item': 'Villaverde, Sergio'},\n",
      "                             {'count': 1, 'item': 'Vogel, Mark H'}]},\n",
      "  'dataTypeName': 'text',\n",
      "  'fieldName': 'candname',\n",
      "  'format': {},\n",
      "  'id': 75768835,\n",
      "  'name': 'CANDNAME',\n",
      "  'position': 4,\n",
      "  'renderTypeName': 'text',\n",
      "  'tableColumnId': 1518993,\n",
      "  'width': 196},\n",
      " {'cachedContents': {'average': '4.700704225352113',\n",
      "                     'largest': '5',\n",
      "                     'non_null': 284,\n",
      "                     'null': 1,\n",
      "                     'smallest': '1',\n",
      "                     'sum': '1335',\n",
      "                     'top': [{'count': 20, 'item': '5'},\n",
      "                             {'count': 19, 'item': '1'},\n",
      "                             {'count': 18, 'item': '3'},\n",
      "                             {'count': 17, 'item': '4'},\n",
      "                             {'count': 16, 'item': '2'}]},\n",
      "  'dataTypeName': 'number',\n",
      "  'fieldName': 'officecd',\n",
      "  'format': {},\n",
      "  'id': 75768836,\n",
      "  'name': 'OFFICECD',\n",
      "  'position': 5,\n",
      "  'renderTypeName': 'number',\n",
      "  'tableColumnId': 1518994,\n",
      "  'width': 196},\n",
      " {'cachedContents': {'largest': 'X',\n",
      "                     'non_null': 21,\n",
      "                     'null': 264,\n",
      "                     'smallest': 'K',\n",
      "                     'top': [{'count': 20, 'item': 'OFFICEBORO'},\n",
      "                             {'count': 19, 'item': 'X'},\n",
      "                             {'count': 18, 'item': 'M'},\n",
      "                             {'count': 17, 'item': 'K'},\n",
      "                             {'count': 16, 'item': 'Q'},\n",
      "                             {'count': 15, 'item': 'S'}]},\n",
      "  'dataTypeName': 'text',\n",
      "  'fieldName': 'officeboro',\n",
      "  'format': {},\n",
      "  'id': 75768837,\n",
      "  'name': 'OFFICEBORO',\n",
      "  'position': 6,\n",
      "  'renderTypeName': 'text',\n",
      "  'tableColumnId': 1518995,\n",
      "  'width': 220},\n",
      " {'cachedContents': {'average': '26.33061224489796',\n",
      "                     'largest': '51',\n",
      "                     'non_null': 245,\n",
      "                     'null': 40,\n",
      "                     'smallest': '1',\n",
      "                     'sum': '6451',\n",
      "                     'top': [{'count': 20, 'item': '7'},\n",
      "                             {'count': 19, 'item': '32'},\n",
      "                             {'count': 18, 'item': '37'},\n",
      "                             {'count': 17, 'item': '28'},\n",
      "                             {'count': 16, 'item': '19'},\n",
      "                             {'count': 15, 'item': '39'},\n",
      "                             {'count': 14, 'item': '35'},\n",
      "                             {'count': 13, 'item': '42'},\n",
      "                             {'count': 12, 'item': '31'},\n",
      "                             {'count': 11, 'item': '6'},\n",
      "                             {'count': 10, 'item': '47'},\n",
      "                             {'count': 9, 'item': '20'},\n",
      "                             {'count': 8, 'item': '1'},\n",
      "                             {'count': 7, 'item': '27'},\n",
      "                             {'count': 6, 'item': '26'},\n",
      "                             {'count': 5, 'item': '10'},\n",
      "                             {'count': 4, 'item': '34'},\n",
      "                             {'count': 3, 'item': '45'},\n",
      "                             {'count': 2, 'item': '40'},\n",
      "                             {'count': 1, 'item': '12'}]},\n",
      "  'dataTypeName': 'number',\n",
      "  'fieldName': 'officedist',\n",
      "  'format': {},\n",
      "  'id': 75768838,\n",
      "  'name': 'OFFICEDIST',\n",
      "  'position': 7,\n",
      "  'renderTypeName': 'number',\n",
      "  'tableColumnId': 1518996,\n",
      "  'width': 220},\n",
      " {'cachedContents': {'largest': 'P',\n",
      "                     'non_null': 285,\n",
      "                     'null': 0,\n",
      "                     'smallest': 'CANCLASS',\n",
      "                     'top': [{'count': 20, 'item': 'CANCLASS'},\n",
      "                             {'count': 19, 'item': 'P'}]},\n",
      "  'dataTypeName': 'text',\n",
      "  'fieldName': 'canclass',\n",
      "  'format': {},\n",
      "  'id': 75768839,\n",
      "  'name': 'CANCLASS',\n",
      "  'position': 8,\n",
      "  'renderTypeName': 'text',\n",
      "  'tableColumnId': 1518997,\n",
      "  'width': 196},\n",
      " {'cachedContents': {'average': '112243.9612676056',\n",
      "                     'largest': '2846148.00',\n",
      "                     'non_null': 284,\n",
      "                     'null': 1,\n",
      "                     'smallest': '0',\n",
      "                     'sum': '31877285.00',\n",
      "                     'top': [{'count': 20, 'item': '75350.00'},\n",
      "                             {'count': 19, 'item': '0'},\n",
      "                             {'count': 18, 'item': '91333.00'},\n",
      "                             {'count': 17, 'item': '69780.00'},\n",
      "                             {'count': 16, 'item': '22172.00'},\n",
      "                             {'count': 15, 'item': '65356.00'},\n",
      "                             {'count': 14, 'item': '11423.00'},\n",
      "                             {'count': 13, 'item': '60152.00'},\n",
      "                             {'count': 12, 'item': '75040.00'},\n",
      "                             {'count': 11, 'item': '62436.00'},\n",
      "                             {'count': 10, 'item': '42075.00'},\n",
      "                             {'count': 9, 'item': '74920.00'},\n",
      "                             {'count': 8, 'item': '38088.00'},\n",
      "                             {'count': 7, 'item': '74850.00'},\n",
      "                             {'count': 6, 'item': '89502.00'},\n",
      "                             {'count': 5, 'item': '74350.00'},\n",
      "                             {'count': 4, 'item': '58348.00'},\n",
      "                             {'count': 3, 'item': '55100.00'},\n",
      "                             {'count': 2, 'item': '508893.00'},\n",
      "                             {'count': 1, 'item': '74750.00'}]},\n",
      "  'dataTypeName': 'number',\n",
      "  'fieldName': 'primarypay',\n",
      "  'format': {},\n",
      "  'id': 75768840,\n",
      "  'name': 'PRIMARYPAY',\n",
      "  'position': 9,\n",
      "  'renderTypeName': 'number',\n",
      "  'tableColumnId': 1518998,\n",
      "  'width': 220},\n",
      " {'cachedContents': {'average': '28753.57394366197',\n",
      "                     'largest': '976545.00',\n",
      "                     'non_null': 284,\n",
      "                     'null': 1,\n",
      "                     'smallest': '0',\n",
      "                     'sum': '8166015.00',\n",
      "                     'top': [{'count': 20, 'item': '0'},\n",
      "                             {'count': 19, 'item': '75350.00'},\n",
      "                             {'count': 18, 'item': '201131.00'},\n",
      "                             {'count': 17, 'item': '39760.00'},\n",
      "                             {'count': 16, 'item': '57796.00'},\n",
      "                             {'count': 15, 'item': '75200.00'},\n",
      "                             {'count': 14, 'item': '68234.00'},\n",
      "                             {'count': 13, 'item': '5732.00'},\n",
      "                             {'count': 12, 'item': '58488.00'},\n",
      "                             {'count': 11, 'item': '62184.00'},\n",
      "                             {'count': 10, 'item': '44748.00'},\n",
      "                             {'count': 9, 'item': '21946.00'},\n",
      "                             {'count': 8, 'item': '70500.00'}]},\n",
      "  'dataTypeName': 'number',\n",
      "  'fieldName': 'generalpay',\n",
      "  'format': {},\n",
      "  'id': 75768841,\n",
      "  'name': 'GENERALPAY',\n",
      "  'position': 10,\n",
      "  'renderTypeName': 'number',\n",
      "  'tableColumnId': 1518999,\n",
      "  'width': 220},\n",
      " {'cachedContents': {'average': '7776.778169014085',\n",
      "                     'largest': '711537.00',\n",
      "                     'non_null': 284,\n",
      "                     'null': 1,\n",
      "                     'smallest': '0',\n",
      "                     'sum': '2208605.00',\n",
      "                     'top': [{'count': 20, 'item': '0'},\n",
      "                             {'count': 19, 'item': '267331.00'},\n",
      "                             {'count': 18, 'item': '574387.00'},\n",
      "                             {'count': 17, 'item': '303270.00'},\n",
      "                             {'count': 16, 'item': '711537.00'},\n",
      "                             {'count': 15, 'item': '114407.00'},\n",
      "                             {'count': 14, 'item': '237673.00'}]},\n",
      "  'dataTypeName': 'number',\n",
      "  'fieldName': 'runoffpay',\n",
      "  'format': {},\n",
      "  'id': 75768842,\n",
      "  'name': 'RUNOFFPAY',\n",
      "  'position': 11,\n",
      "  'renderTypeName': 'number',\n",
      "  'tableColumnId': 1519000,\n",
      "  'width': 208},\n",
      " {'cachedContents': {'average': '148774.3133802817',\n",
      "                     'largest': '4534230.00',\n",
      "                     'non_null': 284,\n",
      "                     'null': 1,\n",
      "                     'smallest': '0',\n",
      "                     'sum': '42251905.00',\n",
      "                     'top': [{'count': 20, 'item': '0'},\n",
      "                             {'count': 19, 'item': '75350.00'},\n",
      "                             {'count': 18, 'item': '150700.00'},\n",
      "                             {'count': 17, 'item': '2458534.00'},\n",
      "                             {'count': 16, 'item': '133146.00'},\n",
      "                             {'count': 15, 'item': '75200.00'},\n",
      "                             {'count': 14, 'item': '68234.00'},\n",
      "                             {'count': 13, 'item': '70664.00'},\n",
      "                             {'count': 12, 'item': '58488.00'},\n",
      "                             {'count': 11, 'item': '50112.00'},\n",
      "                             {'count': 10, 'item': '62184.00'},\n",
      "                             {'count': 9, 'item': '44748.00'},\n",
      "                             {'count': 8, 'item': '21946.00'},\n",
      "                             {'count': 7, 'item': '41656.00'},\n",
      "                             {'count': 6, 'item': '61260.00'},\n",
      "                             {'count': 5, 'item': '145850.00'},\n",
      "                             {'count': 4, 'item': '35808.00'},\n",
      "                             {'count': 3, 'item': '12172.00'}]},\n",
      "  'dataTypeName': 'number',\n",
      "  'fieldName': 'totalpay',\n",
      "  'format': {},\n",
      "  'id': 75768843,\n",
      "  'name': 'TOTALPAY',\n",
      "  'position': 12,\n",
      "  'renderTypeName': 'number',\n",
      "  'tableColumnId': 1519001,\n",
      "  'width': 196}]\n"
     ]
    }
   ],
   "source": [
    "pprint.pprint(data['meta']['view']['columns'])"
   ]
  },
  {
   "cell_type": "markdown",
   "metadata": {},
   "source": [
    "### Create a DataFrame from your json data\n",
    "The previous two questions previewed one entry from the data object within the json file, as well as the column details associated with that data from the meta entry within the json file. Both should have 19 entries. Create a DataFrame of the data. Be sure to use the information from the meta entry to add appropriate column names to your DataFrame."
   ]
  },
  {
   "cell_type": "code",
   "execution_count": 69,
   "metadata": {},
   "outputs": [],
   "source": [
    "#Your code here\n",
    "\n",
    "df2 = pd.DataFrame.from_dict(data['data'],orient='columns')"
   ]
  },
  {
   "cell_type": "code",
   "execution_count": 70,
   "metadata": {},
   "outputs": [
    {
     "name": "stdout",
     "output_type": "stream",
     "text": [
      "       0                                     1    2           3       4  \\\n",
      "0      1  E3E9CC9F-7443-43F6-94AF-B5A0F802DBA1    1  1315925633  392904   \n",
      "1      2  9D257416-581A-4C42-85CC-B6EAD9DED97F    2  1315925633  392904   \n",
      "2      3  B80D7891-93CF-49E8-86E8-182B618E68F2    3  1315925633  392904   \n",
      "3      4  BB012003-78F5-406D-8A87-7FF8A425EE3F    4  1315925633  392904   \n",
      "4      5  945825F9-2F5D-47C2-A16B-75B93E61E1AD    5  1315925633  392904   \n",
      "..   ...                                   ...  ...         ...     ...   \n",
      "280  281  C50E6A4C-BDE9-4F12-97F4-95D467013540  281  1315925633  392904   \n",
      "281  282  04C6D19F-FF63-47B0-B26D-3B8F98B4C16B  282  1315925633  392904   \n",
      "282  283  A451E0E9-D382-4A97-AAD8-D7D382055F8D  283  1315925633  392904   \n",
      "283  284  E84BCD0C-D6F4-450F-B55B-3199A265C781  284  1315925633  392904   \n",
      "284  285  5BBC9676-2119-4FB5-9DAB-DE3F71B7681A  285  1315925633  392904   \n",
      "\n",
      "              5       6                                                  7  \\\n",
      "0    1315925633  392904  {\\n  \"invalidCells\" : {\\n    \"1519001\" : \"TOTA...   \n",
      "1    1315925633  392904                                               {\\n}   \n",
      "2    1315925633  392904                                               {\\n}   \n",
      "3    1315925633  392904                                               {\\n}   \n",
      "4    1315925633  392904                                               {\\n}   \n",
      "..          ...     ...                                                ...   \n",
      "280  1315925633  392904                                               {\\n}   \n",
      "281  1315925633  392904                                               {\\n}   \n",
      "282  1315925633  392904                                               {\\n}   \n",
      "283  1315925633  392904                                               {\\n}   \n",
      "284  1315925633  392904                                               {\\n}   \n",
      "\n",
      "        8       9                      10    11          12    13        14  \\\n",
      "0    None  CANDID                CANDNAME  None  OFFICEBORO  None  CANCLASS   \n",
      "1    2001      B4        Aboulafia, Sandy     5        None    44         P   \n",
      "2    2001     445         Adams, Jackie R     5        None     7         P   \n",
      "3    2001      HF       Addabbo, Joseph P     5        None    32         P   \n",
      "4    2001      IR  Alamo-Estrada, Agustin     5        None    14         P   \n",
      "..    ...     ...                     ...   ...         ...   ...       ...   \n",
      "280  2001     537          Wilson, John H     5        None    13         P   \n",
      "281  2001     559        Wooten, Donald T     5        None    42         P   \n",
      "282  2001     280           Yassky, David     5        None    33         P   \n",
      "283  2001     274            Zapiti, Mike     5        None    22         P   \n",
      "284  2001     442            Zett, Lori M     5        None    24         P   \n",
      "\n",
      "           15        16    17         18  \n",
      "0        None      None  None       None  \n",
      "1    45410.00         0     0   45410.00  \n",
      "2    11073.00         0     0   11073.00  \n",
      "3    75350.00  73970.00     0  149320.00  \n",
      "4    25000.00   2400.00     0   27400.00  \n",
      "..        ...       ...   ...        ...  \n",
      "280         0         0     0          0  \n",
      "281         0         0     0          0  \n",
      "282  75350.00  75350.00     0  150700.00  \n",
      "283  12172.00         0     0   12172.00  \n",
      "284         0         0     0          0  \n",
      "\n",
      "[285 rows x 19 columns]\n"
     ]
    }
   ],
   "source": [
    "print(df2)"
   ]
  },
  {
   "cell_type": "markdown",
   "metadata": {},
   "source": [
    "### What's wrong with the first row of the DataFrame?"
   ]
  },
  {
   "cell_type": "code",
   "execution_count": 71,
   "metadata": {},
   "outputs": [],
   "source": [
    "#Your code here\n",
    "# contains column names\n",
    "\n"
   ]
  },
  {
   "cell_type": "markdown",
   "metadata": {},
   "source": [
    "#Your answer here"
   ]
  },
  {
   "cell_type": "markdown",
   "metadata": {},
   "source": [
    "## Summary\n",
    "\n",
    "Congratulations! You've started exploring some more complicated data structures used for the web and got to practice data munging and exploring!"
   ]
  }
 ],
 "metadata": {
  "kernelspec": {
   "display_name": "Python 3",
   "language": "python",
   "name": "python3"
  },
  "language_info": {
   "codemirror_mode": {
    "name": "ipython",
    "version": 3
   },
   "file_extension": ".py",
   "mimetype": "text/x-python",
   "name": "python",
   "nbconvert_exporter": "python",
   "pygments_lexer": "ipython3",
   "version": "3.7.5"
  },
  "toc": {
   "base_numbering": 1,
   "nav_menu": {},
   "number_sections": true,
   "sideBar": true,
   "skip_h1_title": false,
   "title_cell": "Table of Contents",
   "title_sidebar": "Contents",
   "toc_cell": false,
   "toc_position": {},
   "toc_section_display": true,
   "toc_window_display": false
  },
  "varInspector": {
   "cols": {
    "lenName": 16,
    "lenType": 16,
    "lenVar": 40
   },
   "kernels_config": {
    "python": {
     "delete_cmd_postfix": "",
     "delete_cmd_prefix": "del ",
     "library": "var_list.py",
     "varRefreshCmd": "print(var_dic_list())"
    },
    "r": {
     "delete_cmd_postfix": ") ",
     "delete_cmd_prefix": "rm(",
     "library": "var_list.r",
     "varRefreshCmd": "cat(var_dic_list()) "
    }
   },
   "types_to_exclude": [
    "module",
    "function",
    "builtin_function_or_method",
    "instance",
    "_Feature"
   ],
   "window_display": false
  }
 },
 "nbformat": 4,
 "nbformat_minor": 2
}
